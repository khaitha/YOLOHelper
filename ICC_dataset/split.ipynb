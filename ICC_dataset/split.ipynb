{
 "cells": [
  {
   "cell_type": "code",
   "execution_count": 1,
   "metadata": {},
   "outputs": [
    {
     "name": "stdout",
     "output_type": "stream",
     "text": [
      "Data split completed.\n"
     ]
    }
   ],
   "source": [
    "import os\n",
    "import shutil\n",
    "from sklearn.model_selection import train_test_split\n",
    "#--------- Code Written by Khai Tha ----------------\n",
    "\n",
    "# Directories for images and labels\n",
    "images_dir = 'seconddata/cropped/images'\n",
    "labels_dir = 'seconddata/cropped/labels'\n",
    "\n",
    "# Destination directories for train, test, val\n",
    "train_dir = 'seconddata/train'\n",
    "test_dir = 'seconddata/test'\n",
    "val_dir = 'seconddata/val'\n",
    "\n",
    "# Create directories if they don't exist\n",
    "for split in ['train', 'test', 'val']:\n",
    "    os.makedirs(os.path.join(train_dir, 'images'), exist_ok=True)\n",
    "    os.makedirs(os.path.join(train_dir, 'labels'), exist_ok=True)\n",
    "    os.makedirs(os.path.join(test_dir, 'images'), exist_ok=True)\n",
    "    os.makedirs(os.path.join(test_dir, 'labels'), exist_ok=True)\n",
    "    os.makedirs(os.path.join(val_dir, 'images'), exist_ok=True)\n",
    "    os.makedirs(os.path.join(val_dir, 'labels'), exist_ok=True)\n",
    "\n",
    "# Get list of images and labels\n",
    "image_files = sorted(os.listdir(images_dir))\n",
    "label_files = sorted(os.listdir(labels_dir))\n",
    "\n",
    "# Ensure the images and labels are in the same order\n",
    "assert len(image_files) == len(label_files)\n",
    "\n",
    "# Split data into train, test, and val\n",
    "train_images, val_images, train_labels, val_labels = train_test_split(\n",
    "    image_files, label_files, test_size=0.2, random_state=42)\n",
    "\n",
    "train_images, test_images, train_labels, test_labels = train_test_split(\n",
    "    train_images, train_labels, test_size=0.25, random_state=42)\n",
    "\n",
    "# Function to copy files to their respective directories\n",
    "def copy_files(files, src_dir, dest_dir):\n",
    "    for file in files:\n",
    "        shutil.copy(os.path.join(src_dir, file), os.path.join(dest_dir, file))\n",
    "\n",
    "# Copy training files\n",
    "copy_files(train_images, images_dir, os.path.join(train_dir, 'images'))\n",
    "copy_files(train_labels, labels_dir, os.path.join(train_dir, 'labels'))\n",
    "\n",
    "# Copy validation files\n",
    "copy_files(val_images, images_dir, os.path.join(val_dir, 'images'))\n",
    "copy_files(val_labels, labels_dir, os.path.join(val_dir, 'labels'))\n",
    "\n",
    "# Copy test files\n",
    "copy_files(test_images, images_dir, os.path.join(test_dir, 'images'))\n",
    "copy_files(test_labels, labels_dir, os.path.join(test_dir, 'labels'))\n",
    "\n",
    "print(\"Data split completed.\")\n"
   ]
  },
  {
   "cell_type": "code",
   "execution_count": null,
   "metadata": {},
   "outputs": [],
   "source": []
  }
 ],
 "metadata": {
  "kernelspec": {
   "display_name": "base",
   "language": "python",
   "name": "python3"
  },
  "language_info": {
   "codemirror_mode": {
    "name": "ipython",
    "version": 3
   },
   "file_extension": ".py",
   "mimetype": "text/x-python",
   "name": "python",
   "nbconvert_exporter": "python",
   "pygments_lexer": "ipython3",
   "version": "3.12.5"
  }
 },
 "nbformat": 4,
 "nbformat_minor": 2
}
