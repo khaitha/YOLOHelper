{
 "cells": [
  {
   "cell_type": "code",
   "execution_count": 2,
   "metadata": {},
   "outputs": [],
   "source": [
    "import os\n",
    "# ------------------- Coded By Khai Tha ---------------------------------\n",
    "# Define your folder path\n",
    "folder_path = 'Final_dataset/train/labels'\n",
    "\n",
    "# Define the minimum bounding box size (change as per your requirement)\n",
    "min_width = 0.01\n",
    "min_height = 0.01\n",
    "\n",
    "# Iterate through all .txt files in the folder\n",
    "for filename in os.listdir(folder_path):\n",
    "    if filename.endswith('.txt'):\n",
    "        file_path = os.path.join(folder_path, filename)\n",
    "\n",
    "        # Read the file lines\n",
    "        with open(file_path, 'r') as file:\n",
    "            lines = file.readlines()\n",
    "\n",
    "        # Filter out lines where the bounding box is too small\n",
    "        filtered_lines = []\n",
    "        for line in lines:\n",
    "            values = line.strip().split()\n",
    "            width = float(values[3])\n",
    "            height = float(values[4])\n",
    "\n",
    "            # Only keep lines where width and height are larger than the minimum size\n",
    "            if width > min_width and height > min_height:\n",
    "                filtered_lines.append(line)\n",
    "\n",
    "        # Write the filtered lines back to the file\n",
    "        with open(file_path, 'w') as file:\n",
    "            file.writelines(filtered_lines)\n"
   ]
  },
  {
   "cell_type": "code",
   "execution_count": null,
   "metadata": {},
   "outputs": [],
   "source": []
  }
 ],
 "metadata": {
  "kernelspec": {
   "display_name": "Python 3",
   "language": "python",
   "name": "python3"
  },
  "language_info": {
   "codemirror_mode": {
    "name": "ipython",
    "version": 3
   },
   "file_extension": ".py",
   "mimetype": "text/x-python",
   "name": "python",
   "nbconvert_exporter": "python",
   "pygments_lexer": "ipython3",
   "version": "3.12.5"
  }
 },
 "nbformat": 4,
 "nbformat_minor": 2
}
